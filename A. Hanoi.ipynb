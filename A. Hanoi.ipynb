{
 "cells": [
  {
   "cell_type": "markdown",
   "metadata": {},
   "source": [
    "# Towers of Hanoi\n",
    "March 28, 2021"
   ]
  },
  {
   "cell_type": "markdown",
   "metadata": {},
   "source": [
    "I spent time on this in Dec 2020. \n",
    "\n",
    "I used French words because to and from are reserved in Py."
   ]
  },
  {
   "cell_type": "code",
   "execution_count": 6,
   "metadata": {},
   "outputs": [],
   "source": [
    "def hanoi(n, de, aux, vers):\n",
    "    if n == 1:\n",
    "        print(f\"Move from {de} to {vers}\")\n",
    "        return\n",
    "    \n",
    "    hanoi(n-1, de, vers, aux)\n",
    "    \n",
    "    hanoi(n-1, aux, de, vers)"
   ]
  },
  {
   "cell_type": "code",
   "execution_count": 7,
   "metadata": {},
   "outputs": [
    {
     "name": "stdout",
     "output_type": "stream",
     "text": [
      "Move from A to C\n",
      "Move from C to B\n",
      "Move from B to A\n",
      "Move from A to C\n"
     ]
    }
   ],
   "source": [
    "hanoi(3, \"A\", \"B\", \"C\")"
   ]
  },
  {
   "cell_type": "code",
   "execution_count": null,
   "metadata": {},
   "outputs": [],
   "source": []
  }
 ],
 "metadata": {
  "kernelspec": {
   "display_name": "Python 3",
   "language": "python",
   "name": "python3"
  },
  "language_info": {
   "codemirror_mode": {
    "name": "ipython",
    "version": 3
   },
   "file_extension": ".py",
   "mimetype": "text/x-python",
   "name": "python",
   "nbconvert_exporter": "python",
   "pygments_lexer": "ipython3",
   "version": "3.7.6"
  }
 },
 "nbformat": 4,
 "nbformat_minor": 4
}
