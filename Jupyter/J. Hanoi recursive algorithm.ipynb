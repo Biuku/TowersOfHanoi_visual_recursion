{
 "cells": [
  {
   "cell_type": "markdown",
   "metadata": {},
   "source": [
    "# Hanoi recursive algorithm\n",
    "\n",
    "April 4, 2021\n",
    "\n",
    "- I just proved that 'relativistic recursion' is possible -- a recursive Hanoi algorithm can manipulate Rings and Rods that are not travelling with it through 'time'.\n",
    "- Now, need to refresh knowledge of the basic Hanoi recursive algo\n",
    "- Also, an opportunity to lay groundwork for how the algo will manipulate class objects"
   ]
  },
  {
   "cell_type": "markdown",
   "metadata": {},
   "source": [
    "## 1.0 Basic recursive algo"
   ]
  },
  {
   "cell_type": "code",
   "execution_count": 7,
   "metadata": {},
   "outputs": [],
   "source": [
    "def pr(n, de, vers, bool):\n",
    "    print(f\"Move ring {n} from {de} to {vers}\")\n",
    "    if bool:\n",
    "        print()"
   ]
  },
  {
   "cell_type": "code",
   "execution_count": 8,
   "metadata": {},
   "outputs": [
    {
     "name": "stdout",
     "output_type": "stream",
     "text": [
      "Move ring 1 from A to C\n",
      "Move ring 2 from A to B\n",
      "\n",
      "Move ring 1 from C to B\n",
      "Move ring 3 from A to C\n",
      "\n",
      "Move ring 1 from B to A\n",
      "Move ring 2 from B to C\n",
      "\n",
      "Move ring 1 from A to C\n"
     ]
    }
   ],
   "source": [
    "def hanoi(n, de, aux, vers):\n",
    "    if n == 1:\n",
    "        pr(n, de, vers, 0)\n",
    "        return \n",
    "    \n",
    "    hanoi(n-1, de, vers, aux)\n",
    "    \n",
    "    pr(n, de, vers, 1)\n",
    "    \n",
    "    hanoi(n-1, aux, de, vers)\n",
    "    \n",
    "hanoi(3, 'A', 'B', 'C')"
   ]
  },
  {
   "cell_type": "markdown",
   "metadata": {},
   "source": [
    "### What I learned\n",
    "\n",
    "- My rings are NOT in reverse order!\n",
    "\n",
    "\n",
    "- Unclear how I will identify the 'anchor ring'\n",
    "    - The intuition problem\n",
    "    - I.e., in the first bloc above, the anchor ring is ring 2:\n",
    "        - Level 1 -- plant Ring 3 in Rod C. In order to do that... \n",
    "            - Level 2 -- plant Ring 2 in Rod B\n",
    "\n",
    "\n",
    "- But... all else should be straighforward:\n",
    "    - The code above would make it easy to alter the state: de, aux, vers, of rods\n",
    "    - It would also made it easy to move rings\n",
    "    - I might need to add in some code to automate movement of rings... but it would be similar to how I manually move them... the groundwork is in place."
   ]
  },
  {
   "cell_type": "code",
   "execution_count": null,
   "metadata": {},
   "outputs": [],
   "source": []
  }
 ],
 "metadata": {
  "kernelspec": {
   "display_name": "Python 3",
   "language": "python",
   "name": "python3"
  },
  "language_info": {
   "codemirror_mode": {
    "name": "ipython",
    "version": 3
   },
   "file_extension": ".py",
   "mimetype": "text/x-python",
   "name": "python",
   "nbconvert_exporter": "python",
   "pygments_lexer": "ipython3",
   "version": "3.7.6"
  }
 },
 "nbformat": 4,
 "nbformat_minor": 4
}
