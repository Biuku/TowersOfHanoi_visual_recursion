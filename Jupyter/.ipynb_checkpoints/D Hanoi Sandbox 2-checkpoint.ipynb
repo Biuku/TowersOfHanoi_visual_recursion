{
 "cells": [
  {
   "cell_type": "markdown",
   "metadata": {},
   "source": [
    "# Hanoi sanbox 2\n",
    "\n",
    "April 1, 2021"
   ]
  },
  {
   "cell_type": "markdown",
   "metadata": {},
   "source": [
    "## 1.0 get but don't pop top of stack"
   ]
  },
  {
   "cell_type": "code",
   "execution_count": 4,
   "metadata": {},
   "outputs": [
    {
     "data": {
      "text/plain": [
       "[15, 14, 13, 12, 11]"
      ]
     },
     "execution_count": 4,
     "metadata": {},
     "output_type": "execute_result"
    }
   ],
   "source": [
    "stack = [x for x in range(11, 16)]\n",
    "stack.sort(reverse = True)\n",
    "stack"
   ]
  },
  {
   "cell_type": "code",
   "execution_count": 6,
   "metadata": {},
   "outputs": [
    {
     "data": {
      "text/plain": [
       "15"
      ]
     },
     "execution_count": 6,
     "metadata": {},
     "output_type": "execute_result"
    }
   ],
   "source": [
    "stack[0]"
   ]
  },
  {
   "cell_type": "markdown",
   "metadata": {},
   "source": [
    "#### Um, this wasn't as complicated as I thought"
   ]
  },
  {
   "cell_type": "markdown",
   "metadata": {},
   "source": [
    "## 2.0 How to deliver a message back to main\n",
    "- I want main to check whether any rings are in 'snapping position' -- i.e., ready to snap to a different rod.\n",
    "- Need to get clear on how None works wither returns, etc."
   ]
  },
  {
   "cell_type": "markdown",
   "metadata": {},
   "source": [
    "### 2.1 Make some rings"
   ]
  },
  {
   "cell_type": "code",
   "execution_count": 61,
   "metadata": {},
   "outputs": [],
   "source": [
    "class Ring:\n",
    "    def __init__(self, snapping, id):\n",
    "        self.snapping = snapping \n",
    "        self.id = id\n",
    "\n",
    "rings = [Ring(True, 0)]\n",
    "for i in range(1, 5):\n",
    "    rings.insert(0, Ring(False, i))\n"
   ]
  },
  {
   "cell_type": "code",
   "execution_count": 62,
   "metadata": {},
   "outputs": [
    {
     "name": "stdout",
     "output_type": "stream",
     "text": [
      "4 False\n",
      "3 False\n",
      "2 False\n",
      "1 False\n",
      "0 True\n"
     ]
    }
   ],
   "source": [
    "for ring in rings:\n",
    "    print(ring.id, ring.snapping)"
   ]
  },
  {
   "cell_type": "markdown",
   "metadata": {},
   "source": [
    "### 2.2 Make some rods"
   ]
  },
  {
   "cell_type": "code",
   "execution_count": 57,
   "metadata": {},
   "outputs": [],
   "source": [
    "class Rod:\n",
    "    def __init__(self, rings = []):\n",
    "        self.stack = rings\n",
    "   \n",
    "    def check_snapping(self):\n",
    "        \n",
    "        for ring in self.stack:\n",
    "            \n",
    "            if ring.snapping:\n",
    "                return ring.id\n",
    "\n",
    "        \n",
    "rods = [Rod(), Rod(), Rod(rings)]"
   ]
  },
  {
   "cell_type": "code",
   "execution_count": 49,
   "metadata": {},
   "outputs": [
    {
     "name": "stdout",
     "output_type": "stream",
     "text": [
      "4 False\n",
      "3 False\n",
      "2 False\n",
      "1 False\n",
      "0 True\n"
     ]
    }
   ],
   "source": [
    "for rod in rods:\n",
    "    for ring in rod.stack:\n",
    "        print(ring.id, ring.snapping)"
   ]
  },
  {
   "cell_type": "markdown",
   "metadata": {},
   "source": [
    "### 2.3 Pass back from main object"
   ]
  },
  {
   "cell_type": "code",
   "execution_count": 58,
   "metadata": {},
   "outputs": [
    {
     "name": "stdout",
     "output_type": "stream",
     "text": [
      "0\n"
     ]
    }
   ],
   "source": [
    "class Main:\n",
    "    def __init__(self, rods):\n",
    "        self.rods = rods\n",
    "        \n",
    "    def check_snapping(self):\n",
    "        for rod in self.rods:\n",
    "            ring_id = rod.check_snapping()\n",
    "            if ring_id:\n",
    "                break\n",
    "     \n",
    "        \n",
    "        print(ring_id)\n",
    "\n",
    "main = Main(rods)\n",
    "\n",
    "main.check_snapping()"
   ]
  },
  {
   "cell_type": "markdown",
   "metadata": {},
   "source": [
    "### 2.4 Can I send back 'self'?"
   ]
  },
  {
   "cell_type": "markdown",
   "metadata": {},
   "source": [
    "#### 2.4.1 Update the rods object"
   ]
  },
  {
   "cell_type": "code",
   "execution_count": 65,
   "metadata": {},
   "outputs": [],
   "source": [
    "class Rod:\n",
    "    def __init__(self, rings = []):\n",
    "        self.stack = rings\n",
    "   \n",
    "    def check_snapping(self):\n",
    "        \n",
    "        for ring in self.stack:\n",
    "            \n",
    "            if ring.snapping:\n",
    "                return ring\n",
    "        \n",
    "rods = [Rod(), Rod(), Rod(rings)]"
   ]
  },
  {
   "cell_type": "markdown",
   "metadata": {},
   "source": [
    "#### 2.4.2 Update Main"
   ]
  },
  {
   "cell_type": "code",
   "execution_count": 66,
   "metadata": {},
   "outputs": [
    {
     "name": "stdout",
     "output_type": "stream",
     "text": [
      "0 True\n"
     ]
    }
   ],
   "source": [
    "class Main:\n",
    "    def __init__(self, rods):\n",
    "        self.rods = rods\n",
    "        \n",
    "    def check_snapping(self):\n",
    "        for rod in self.rods:\n",
    "            ring = rod.check_snapping()\n",
    "            if ring:\n",
    "                break\n",
    "     \n",
    "        if ring:\n",
    "            print(ring.id, ring.snapping)\n",
    "\n",
    "main = Main(rods)\n",
    "\n",
    "main.check_snapping()"
   ]
  },
  {
   "cell_type": "code",
   "execution_count": null,
   "metadata": {},
   "outputs": [],
   "source": []
  }
 ],
 "metadata": {
  "kernelspec": {
   "display_name": "Python 3",
   "language": "python",
   "name": "python3"
  },
  "language_info": {
   "codemirror_mode": {
    "name": "ipython",
    "version": 3
   },
   "file_extension": ".py",
   "mimetype": "text/x-python",
   "name": "python",
   "nbconvert_exporter": "python",
   "pygments_lexer": "ipython3",
   "version": "3.7.6"
  }
 },
 "nbformat": 4,
 "nbformat_minor": 4
}
