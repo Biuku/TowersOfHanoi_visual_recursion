{
 "cells": [
  {
   "cell_type": "markdown",
   "metadata": {},
   "source": [
    "# Towers of Hanoi\n",
    "March 28, 2021"
   ]
  },
  {
   "cell_type": "markdown",
   "metadata": {},
   "source": [
    "I spent time on this in Dec 2020. \n",
    "\n",
    "I used French words because to and from are reserved in Py."
   ]
  },
  {
   "cell_type": "markdown",
   "metadata": {},
   "source": [
    "A <a href='https://www.mathsisfun.com/games/towerofhanoi.html'>good 'game'</a> to test drive algorithmic results: "
   ]
  },
  {
   "cell_type": "code",
   "execution_count": 13,
   "metadata": {},
   "outputs": [],
   "source": [
    "def hanoi(n, de, aux, vers):\n",
    "    if n == 1:\n",
    "        print(f\"Move from {de} to {vers}\\n\")\n",
    "        return\n",
    "    \n",
    "    \n",
    "    hanoi(n-1, de, vers, aux)\n",
    "    \n",
    "    print(f\"Move from {de} to {vers}\")\n",
    "    \n",
    "    hanoi(n-1, aux, de, vers)"
   ]
  },
  {
   "cell_type": "code",
   "execution_count": 15,
   "metadata": {},
   "outputs": [
    {
     "name": "stdout",
     "output_type": "stream",
     "text": [
      "Move from A to B\n",
      "\n",
      "Move from A to C\n",
      "Move from B to C\n",
      "\n",
      "Move from A to B\n",
      "Move from C to A\n",
      "\n",
      "Move from C to B\n",
      "Move from A to B\n",
      "\n",
      "Move from A to C\n",
      "Move from B to C\n",
      "\n",
      "Move from B to A\n",
      "Move from C to A\n",
      "\n",
      "Move from B to C\n",
      "Move from A to B\n",
      "\n",
      "Move from A to C\n",
      "Move from B to C\n",
      "\n"
     ]
    }
   ],
   "source": [
    "hanoi(4, \"A\", \"B\", \"C\")"
   ]
  },
  {
   "cell_type": "markdown",
   "metadata": {},
   "source": [
    "## Iterative (non-recursive) towers of Hanoi"
   ]
  },
  {
   "cell_type": "markdown",
   "metadata": {},
   "source": [
    "- Calculate the total number of moves required: $2^n-1$\n",
    "- If n is even, swap vers and aux.\n",
    "- for i in range(1, n):\n",
    "    - if i%3 == 1:\n",
    "        - legal move of top disk between de and vers\n",
    "    - if i%3 == 2:\n",
    "        - legal move of top disk between de and aux \n",
    "    - if i%3 == 0:\n",
    "        - legal move of top disk between aux and vers"
   ]
  },
  {
   "cell_type": "markdown",
   "metadata": {},
   "source": [
    "### 1.0 Recap modulo"
   ]
  },
  {
   "cell_type": "code",
   "execution_count": 22,
   "metadata": {},
   "outputs": [
    {
     "name": "stdout",
     "output_type": "stream",
     "text": [
      "6/3 = 2.0  |  6//3 = 2  |  6%3 = 0 \n",
      "7/3 = 2.333  |  7//3 = 2  |  7%3 = 1 \n",
      "8/3 = 2.667  |  8//3 = 2  |  8%3 = 2 \n",
      "9/3 = 3.0  |  9//3 = 3  |  9%3 = 0 \n",
      "10/3 = 3.333  |  10//3 = 3  |  10%3 = 1 \n"
     ]
    }
   ],
   "source": [
    "x = 3\n",
    "for i in range(6, 11):\n",
    "    floaty = i/x\n",
    "    inty = i//x\n",
    "    mody = i%x\n",
    "    \n",
    "    print(f\"{i}/{x} = {round(floaty, 3)}  |  {i}//{x} = {inty}  |  {i}%{x} = {mody} \")\n",
    "    \n",
    "    "
   ]
  },
  {
   "cell_type": "code",
   "execution_count": 30,
   "metadata": {},
   "outputs": [
    {
     "name": "stdout",
     "output_type": "stream",
     "text": [
      "3/3 = 1.0  |  3//3 = 1  |  3-3 = 2  |  3%3 = 0 \n",
      "4/3 = 1.3  |  4//3 = 1  |  3-4 = 2  |  4%3 = 1 \n",
      "5/3 = 1.7  |  5//3 = 1  |  3-5 = 2  |  5%3 = 2 \n",
      "6/3 = 2.0  |  6//3 = 2  |  3-6 = 1  |  6%3 = 0 \n",
      "7/3 = 2.3  |  7//3 = 2  |  3-7 = 1  |  7%3 = 1 \n",
      "8/3 = 2.7  |  8//3 = 2  |  3-8 = 1  |  8%3 = 2 \n",
      "9/3 = 3.0  |  9//3 = 3  |  3-9 = 0  |  9%3 = 0 \n"
     ]
    }
   ],
   "source": [
    "x = 3\n",
    "for i in range(3, 10):\n",
    "    floaty = i/x\n",
    "    inty = i//x\n",
    "    remainder = x - (inty * x)\n",
    "    mody = i%x\n",
    "    \n",
    "    print(f\"{i}/{x} = {round(floaty, 1)}  |  {i}//{x} = {inty}  |  {x}-{i} = {remainder}  |  {i}%{x} = {mody} \")\n",
    "    \n",
    "    "
   ]
  },
  {
   "cell_type": "code",
   "execution_count": null,
   "metadata": {},
   "outputs": [],
   "source": []
  }
 ],
 "metadata": {
  "kernelspec": {
   "display_name": "Python 3",
   "language": "python",
   "name": "python3"
  },
  "language_info": {
   "codemirror_mode": {
    "name": "ipython",
    "version": 3
   },
   "file_extension": ".py",
   "mimetype": "text/x-python",
   "name": "python",
   "nbconvert_exporter": "python",
   "pygments_lexer": "ipython3",
   "version": "3.7.6"
  }
 },
 "nbformat": 4,
 "nbformat_minor": 4
}
