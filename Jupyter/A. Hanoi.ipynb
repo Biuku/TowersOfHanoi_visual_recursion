{
 "cells": [
  {
   "cell_type": "markdown",
   "metadata": {},
   "source": [
    "# Towers of Hanoi\n",
    "March 28, 2021"
   ]
  },
  {
   "cell_type": "markdown",
   "metadata": {},
   "source": [
    "I spent time on this in Dec 2020. \n",
    "\n",
    "I used French words because to and from are reserved in Py."
   ]
  },
  {
   "cell_type": "markdown",
   "metadata": {},
   "source": [
    "A <a href='https://www.mathsisfun.com/games/towerofhanoi.html'>good 'game'</a> to test drive algorithmic results: "
   ]
  },
  {
   "cell_type": "code",
   "execution_count": 2,
   "metadata": {},
   "outputs": [],
   "source": [
    "def hanoi(n, de, aux, vers):\n",
    "    if n == 1:\n",
    "        print(f\"Move from {de} to {vers}\\n\")\n",
    "        return\n",
    "    \n",
    "    \n",
    "    hanoi(n-1, de, vers, aux)\n",
    "    \n",
    "    print(f\"Move from {de} to {vers}\")\n",
    "    \n",
    "    hanoi(n-1, aux, de, vers)"
   ]
  },
  {
   "cell_type": "code",
   "execution_count": 3,
   "metadata": {},
   "outputs": [
    {
     "name": "stdout",
     "output_type": "stream",
     "text": [
      "Move from A to C\n",
      "\n",
      "Move from A to B\n",
      "Move from C to B\n",
      "\n",
      "Move from A to C\n",
      "Move from B to A\n",
      "\n",
      "Move from B to C\n",
      "Move from A to C\n",
      "\n"
     ]
    }
   ],
   "source": [
    "hanoi(3, \"A\", \"B\", \"C\")"
   ]
  },
  {
   "cell_type": "markdown",
   "metadata": {},
   "source": [
    "## Iterative (non-recursive) towers of Hanoi"
   ]
  },
  {
   "cell_type": "markdown",
   "metadata": {},
   "source": [
    "- Calculate the total number of moves required: $2^n-1$\n",
    "- If n is even, swap vers and aux.\n",
    "- for i in range(1, n):\n",
    "    - if i%3 == 1:\n",
    "        - legal move of top disk between de and vers\n",
    "    - if i%3 == 2:\n",
    "        - legal move of top disk between de and aux \n",
    "    - if i%3 == 0:\n",
    "        - legal move of top disk between aux and vers"
   ]
  },
  {
   "cell_type": "markdown",
   "metadata": {},
   "source": [
    "### 1.0 Recap modulo"
   ]
  },
  {
   "cell_type": "code",
   "execution_count": 41,
   "metadata": {},
   "outputs": [
    {
     "name": "stdout",
     "output_type": "stream",
     "text": [
      "Float       Int         Remainder        Modulo\n",
      "\n",
      "1/3 = 0.3  |  1//3 = 0  |  1-(0*3) = 1  |  1%3 = 1 \n",
      "2/3 = 0.7  |  2//3 = 0  |  2-(0*3) = 2  |  2%3 = 2 \n",
      "3/3 = 1.0  |  3//3 = 1  |  3-(1*3) = 0  |  3%3 = 0 \n",
      "4/3 = 1.3  |  4//3 = 1  |  4-(1*3) = 1  |  4%3 = 1 \n",
      "5/3 = 1.7  |  5//3 = 1  |  5-(1*3) = 2  |  5%3 = 2 \n"
     ]
    }
   ],
   "source": [
    "x = 3\n",
    "print(\"Float       Int         Remainder        Modulo\\n\")\n",
    "\n",
    "for i in range(1, 6):\n",
    "    floaty = i/x\n",
    "    inty = i//x\n",
    "    remainder = i - (inty * x)\n",
    "    mody = i%x\n",
    "    \n",
    "    print(f\"{i}/{x} = {round(floaty, 1)}  |  {i}//{x} = {inty}  |  {i}-({inty}*{x}) = {remainder}  |  {i}%{x} = {mody} \")"
   ]
  },
  {
   "cell_type": "markdown",
   "metadata": {},
   "source": [
    "#### ^ 2 // 1,000 has remainder 1,000 -- that's left over after you try (and fail to) divide."
   ]
  },
  {
   "cell_type": "markdown",
   "metadata": {},
   "source": [
    "### 2.0 Recap modulo in Towers of Hanoi"
   ]
  },
  {
   "cell_type": "code",
   "execution_count": 42,
   "metadata": {},
   "outputs": [
    {
     "name": "stdout",
     "output_type": "stream",
     "text": [
      "1 % 3 = 1\n",
      "2 % 3 = 2\n",
      "3 % 3 = 0\n",
      "4 % 3 = 1\n",
      "5 % 3 = 2\n",
      "6 % 3 = 0\n",
      "7 % 3 = 1\n"
     ]
    }
   ],
   "source": [
    "n = 8\n",
    "for i in range(1, n):\n",
    "    modo = i%3\n",
    "    print(f\"{i} % 3 = {modo}\")"
   ]
  },
  {
   "cell_type": "markdown",
   "metadata": {},
   "source": [
    "## 3.0 G4G example\n",
    "<a href='https://www.geeksforgeeks.org/iterative-tower-of-hanoi/'>Link</a>\n",
    "\n",
    "- Given: n = 3 rings\n",
    "- Total # moves = 2^3 - 1 = 7"
   ]
  },
  {
   "cell_type": "code",
   "execution_count": null,
   "metadata": {},
   "outputs": [],
   "source": []
  }
 ],
 "metadata": {
  "kernelspec": {
   "display_name": "Python 3",
   "language": "python",
   "name": "python3"
  },
  "language_info": {
   "codemirror_mode": {
    "name": "ipython",
    "version": 3
   },
   "file_extension": ".py",
   "mimetype": "text/x-python",
   "name": "python",
   "nbconvert_exporter": "python",
   "pygments_lexer": "ipython3",
   "version": "3.7.6"
  }
 },
 "nbformat": 4,
 "nbformat_minor": 4
}
