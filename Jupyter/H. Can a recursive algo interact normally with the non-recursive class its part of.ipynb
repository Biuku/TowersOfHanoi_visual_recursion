{
 "cells": [
  {
   "cell_type": "markdown",
   "metadata": {},
   "source": [
    "# Can a recursive algo interact normally with the non-recursive class its part of\n",
    "\n",
    "April 4, 2021\n",
    "\n",
    "- Key overall project requirement is to visualize how the recursive Hanoi algorithm works\n",
    "- But, not sure if I can 'do normal stuff' (visualize) outside of a recurring algorithm -- i.e., as it travels back and forth in 'time'.\n",
    "\n",
    "#### Experiment to show whether the 'time travel\" of a recursive algorithm does not affect the class encapsulating it\n",
    "- If they are independent (relativistic encapsulation??), then I can use the superior recursive Hanoi algorithm\n",
    "- Else, I need to recreate how that works using iterative algorithm\n",
    "\n",
    "#### Approach \n",
    "- Will use a much simpler recursion -- Fibonacci or Factorial"
   ]
  },
  {
   "cell_type": "markdown",
   "metadata": {},
   "source": [
    "## 1.0 Basic Factorial recursive algo"
   ]
  },
  {
   "cell_type": "code",
   "execution_count": 1,
   "metadata": {},
   "outputs": [],
   "source": [
    "def fact(x):\n",
    "    if x == 1:\n",
    "        return x\n",
    "    \n",
    "    return x * fact(x-1)"
   ]
  },
  {
   "cell_type": "code",
   "execution_count": 3,
   "metadata": {},
   "outputs": [
    {
     "data": {
      "text/plain": [
       "5040"
      ]
     },
     "execution_count": 3,
     "metadata": {},
     "output_type": "execute_result"
    }
   ],
   "source": [
    "fact(7)"
   ]
  },
  {
   "cell_type": "code",
   "execution_count": 25,
   "metadata": {},
   "outputs": [],
   "source": [
    "class Test:\n",
    "    def __init__(self):\n",
    "        self.counter = 0\n",
    "    \n",
    "    \n",
    "    \"\"\" Tracer \"\"\"\n",
    "    def printr(self, x, text):\n",
    "        spaces = (self.counter) * \" \"\n",
    "        print(f\"{spaces}Step {self.counter}. > {x}  |  {text}\")\n",
    "    \n",
    "    \n",
    "    \"\"\" Algorithm \"\"\"\n",
    "    def factorial(self, x):\n",
    "        self.counter += 1\n",
    "        \n",
    "        if x == 1:\n",
    "            self.running_factorial = x\n",
    "            return x\n",
    "        \n",
    "        self.printr(x, \"Down\")\n",
    "        \n",
    "        x *= self.factorial(x-1)\n",
    "        \n",
    "        self.counter -= 1\n",
    "        self.printr(x, \"Up\")\n",
    "        \n",
    "        return x"
   ]
  },
  {
   "cell_type": "code",
   "execution_count": 26,
   "metadata": {},
   "outputs": [
    {
     "name": "stdout",
     "output_type": "stream",
     "text": [
      " Step 1. > 5  |  Down\n",
      "  Step 2. > 4  |  Down\n",
      "   Step 3. > 3  |  Down\n",
      "    Step 4. > 2  |  Down\n",
      "    Step 4. > 2  |  Up\n",
      "   Step 3. > 6  |  Up\n",
      "  Step 2. > 24  |  Up\n",
      " Step 1. > 120  |  Up\n"
     ]
    },
    {
     "data": {
      "text/plain": [
       "120"
      ]
     },
     "execution_count": 26,
     "metadata": {},
     "output_type": "execute_result"
    }
   ],
   "source": [
    "test = Test()\n",
    "\n",
    "test.factorial(5)"
   ]
  },
  {
   "cell_type": "markdown",
   "metadata": {},
   "source": [
    "## 2.0 Slightly modified -- counter"
   ]
  },
  {
   "cell_type": "code",
   "execution_count": 31,
   "metadata": {},
   "outputs": [],
   "source": [
    "class Test:\n",
    "    def __init__(self):\n",
    "        self.counter = 0\n",
    "        self.spaces_counter = 0\n",
    "    \n",
    "    \n",
    "    \"\"\" Tracer \"\"\"\n",
    "    def printr(self, x, text):\n",
    "        spaces = (self.spaces_counter) * \" \"\n",
    "        print(f\"{spaces}Step {self.counter}. > {x}  |  {text}\")\n",
    "    \n",
    "    \n",
    "    \"\"\" Algorithm \"\"\"\n",
    "    def factorial(self, x):\n",
    "        self.counter += 1\n",
    "        self.spaces_counter += 1\n",
    "        \n",
    "        if x == 1:\n",
    "            self.running_factorial = x\n",
    "            return x\n",
    "        \n",
    "        self.printr(x, \"Down\")\n",
    "        \n",
    "        x *= self.factorial(x-1)\n",
    "        \n",
    "        self.counter += 1\n",
    "        self.spaces_counter -= 1 \n",
    "        \n",
    "        self.printr(x, \"Up\")\n",
    "        \n",
    "        return x"
   ]
  },
  {
   "cell_type": "code",
   "execution_count": 32,
   "metadata": {},
   "outputs": [
    {
     "name": "stdout",
     "output_type": "stream",
     "text": [
      " Step 1. > 5  |  Down\n",
      "  Step 2. > 4  |  Down\n",
      "   Step 3. > 3  |  Down\n",
      "    Step 4. > 2  |  Down\n",
      "    Step 6. > 2  |  Up\n",
      "   Step 7. > 6  |  Up\n",
      "  Step 8. > 24  |  Up\n",
      " Step 9. > 120  |  Up\n"
     ]
    },
    {
     "data": {
      "text/plain": [
       "120"
      ]
     },
     "execution_count": 32,
     "metadata": {},
     "output_type": "execute_result"
    }
   ],
   "source": [
    "test = Test()\n",
    "\n",
    "test.factorial(5)"
   ]
  },
  {
   "cell_type": "markdown",
   "metadata": {},
   "source": [
    "## Okay -- I've proven that ... 'relativistic recursion' with a class is pretty simple\n",
    "- I can implement the recursive Hanois algorithm in my main program, and then tell it to manipulate Rings, etc."
   ]
  },
  {
   "cell_type": "code",
   "execution_count": null,
   "metadata": {},
   "outputs": [],
   "source": []
  }
 ],
 "metadata": {
  "kernelspec": {
   "display_name": "Python 3",
   "language": "python",
   "name": "python3"
  },
  "language_info": {
   "codemirror_mode": {
    "name": "ipython",
    "version": 3
   },
   "file_extension": ".py",
   "mimetype": "text/x-python",
   "name": "python",
   "nbconvert_exporter": "python",
   "pygments_lexer": "ipython3",
   "version": "3.7.6"
  }
 },
 "nbformat": 4,
 "nbformat_minor": 4
}
